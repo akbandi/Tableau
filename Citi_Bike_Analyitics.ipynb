{
 "cells": [
  {
   "cell_type": "code",
   "execution_count": null,
   "id": "47660f0d",
   "metadata": {},
   "outputs": [],
   "source": [
    "import pandas as pd"
   ]
  },
  {
   "cell_type": "code",
   "execution_count": null,
   "id": "6d76f100",
   "metadata": {},
   "outputs": [],
   "source": [
    "csv_file_1 = \"Raw_Data/JC-202207-citbike-tripdata.csv\"\n",
    "July_df = pd.read_csv(csv_file_1)\n",
    "July_df.head()"
   ]
  },
  {
   "cell_type": "code",
   "execution_count": null,
   "id": "1081133f",
   "metadata": {},
   "outputs": [],
   "source": [
    "csv_file_2 = \"Raw_Data/JC-202208-citibike-tripdata.csv\"\n",
    "August_df = pd.read_csv(csv_file_2)\n",
    "August_df.head()"
   ]
  },
  {
   "cell_type": "code",
   "execution_count": null,
   "id": "a0aaca20",
   "metadata": {},
   "outputs": [],
   "source": [
    "csv_file_3 = \"Raw_Data/JC-202209-citibike-tripdata.csv\"\n",
    "September_df = pd.read_csv(csv_file_3)\n",
    "September_df.head()"
   ]
  },
  {
   "cell_type": "code",
   "execution_count": null,
   "id": "1abd6df0",
   "metadata": {},
   "outputs": [],
   "source": [
    "Jul_Aug = pd.concat([July_df, August_df], axis=0)\n",
    "Jul_Aug"
   ]
  },
  {
   "cell_type": "code",
   "execution_count": null,
   "id": "6f1dba19",
   "metadata": {},
   "outputs": [],
   "source": [
    "Jul_Aug_Sep = pd.concat([Jul_Aug, September_df], axis=0)\n",
    "Jul_Aug_Sep.head()"
   ]
  },
  {
   "cell_type": "code",
   "execution_count": null,
   "id": "b920b419",
   "metadata": {},
   "outputs": [],
   "source": [
    "Three_Months_df= Jul_Aug_Sep.rename(columns={'ride_id':'Ride ID', 'rideable_type':'Rideable Type', 'started_at': 'Started At', 'ended_at':'Ended At',\n",
    "                                           'start_station_name': 'Start Station Name','start_station_id': 'Start Station ID',\n",
    "                                            'end_station_name': 'End Station Name','end_station_id': 'End Station ID','start_lat':'Start Latitude',\n",
    "                                            'start_lng':'Start longitude','end_lat':'End Latitude', 'end_lng':'End longitude', 'member_casual':'Member or Casual Ride'})\n",
    "Three_Months_df"
   ]
  },
  {
   "cell_type": "code",
   "execution_count": null,
   "id": "9d64a3ff",
   "metadata": {},
   "outputs": [],
   "source": [
    "Three_Months_df.to_csv(\"Cleaned_Data/CitiBike.csv\", index=False, header=True)"
   ]
  },
  {
   "cell_type": "code",
   "execution_count": null,
   "id": "46beafde",
   "metadata": {},
   "outputs": [],
   "source": []
  }
 ],
 "metadata": {
  "kernelspec": {
   "display_name": "Python 3 (ipykernel)",
   "language": "python",
   "name": "python3"
  },
  "language_info": {
   "codemirror_mode": {
    "name": "ipython",
    "version": 3
   },
   "file_extension": ".py",
   "mimetype": "text/x-python",
   "name": "python",
   "nbconvert_exporter": "python",
   "pygments_lexer": "ipython3",
   "version": "3.8.13"
  }
 },
 "nbformat": 4,
 "nbformat_minor": 5
}
